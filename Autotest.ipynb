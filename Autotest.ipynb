{
 "cells": [
  {
   "cell_type": "code",
   "execution_count": null,
   "metadata": {},
   "outputs": [],
   "source": [
    "import os\n",
    "\n",
    "PATH_vasp = \"./vasp\"\n",
    "PATH_out = \"./vasp_surface\"\n",
    "PATH_pv = \"./vasp_pv\" # paraview\n",
    "PATH_python2 = \"/opt/conda/envs/python2/bin\"\n",
    "runfilename = \"SurfaceExtraction_PCA_200701.py\""
   ]
  },
  {
   "cell_type": "markdown",
   "metadata": {},
   "source": [
    "### Step 1. Check VASP files"
   ]
  },
  {
   "cell_type": "code",
   "execution_count": 2,
   "metadata": {},
   "outputs": [],
   "source": [
    "files = os.listdir(\"./vasp\")\n",
    "files"
   ]
  },
  {
   "cell_type": "markdown",
   "metadata": {},
   "source": [
    "### Step 2. Extract Surface Atoms"
   ]
  },
  {
   "cell_type": "code",
   "execution_count": 3,
   "metadata": {},
   "outputs": [],
   "source": [
    "runcommand = os.path.join(PATH_python2, \"python2\")\n",
    "commands = [\" \".join([runcommand, runfilename, file]) for file in files]"
   ]
  },
  {
   "cell_type": "code",
   "execution_count": 4,
   "metadata": {},
   "outputs": [
    {
     "name": "stdout",
     "output_type": "stream",
     "text": [
      "12_18_24.vasp\n",
      "3CNTs_extremelyclose.vasp\n",
      "3CNTs_wide.vasp\n",
      "3CNTs_wider.vasp\n",
      "3_6_9.vasp\n",
      "NMGC-281588.vasp\n",
      "NMGC-413955.vasp\n",
      "NP_PtTi.vasp\n",
      "POSCAR.C162.vasp\n",
      "POSCAR.C162_3layers.vasp\n",
      "POSCAR.C162_bump.vasp\n",
      "POSCAR.C162_curve.vasp\n",
      "POSCAR.C162_slope.vasp\n",
      "POSCAR.C162_slope_.vasp\n",
      "POSCAR.C162_wave.vasp\n",
      "POSCAR_Anatase_001.vasp\n",
      "POSCAR_Anatase_101.vasp\n",
      "POSCAR_BTO.vasp\n",
      "POSCAR_Ce40O80.vasp\n",
      "POSCAR_Pt100.vasp\n",
      "POSCAR_SiO2.vasp\n",
      "POSCAR_SiO2_2D.vasp\n",
      "POSCAR_SiO2_2D_wave.vasp\n",
      "POSCAR_ZnO_001.vasp\n",
      "POSCAR_ZnO_110.vasp\n",
      "SiO2_surf2.vasp\n",
      "TiO2_a.vasp\n",
      "TiO2_b.vasp\n",
      "TiO2_c.vasp\n",
      "TiO2_d.vasp\n",
      "input_POSCAR.Pt27.vasp\n",
      "output_POSCAR.Pt27O2.vasp\n",
      "Au_001_2x2_3L_15A.vasp\n",
      ".ipynb_checkpoints\n",
      "Bi2Te2Se_001_3x3_1L_25A.vasp\n",
      "BaTiO3_001_2x2_3L_15A.vasp\n",
      "CeO2_001_2x2_3L_15A.vasp\n",
      "CoSb3_001_2x2_2L_20A.vasp\n",
      "GaAs_001_2x2_2L_15A.vasp\n",
      "CrNi2_001_3x3_2L_15A.vasp\n",
      "Ge_001_2x2_2L_15A.vasp\n",
      "Mg_001_4x4_3L_15A.vasp\n",
      "MnCu4Sn_001_2x2_2L_15A.vasp\n",
      "Si3N4_001_2x2_5L_15A.vasp\n",
      "Al_001_2x2_3L_15A.vasp\n",
      "W_001_3x3_4L_15A.vasp\n"
     ]
    }
   ],
   "source": [
    "for file, command in zip(files, commands):\n",
    "    print(file)\n",
    "    os.system(command)"
   ]
  },
  {
   "cell_type": "markdown",
   "metadata": {},
   "source": [
    "### Step 3. Rename all outputs for easy check-up @Paraview"
   ]
  },
  {
   "cell_type": "code",
   "execution_count": 5,
   "metadata": {},
   "outputs": [
    {
     "name": "stdout",
     "output_type": "stream",
     "text": [
      "cp ./vasp_surface/Surf_12_18_24.csv ./vasp_pv/Surf_0.csv\n",
      "cp ./vasp_surface/Surf_3CNTs_extremelyclose.csv ./vasp_pv/Surf_1.csv\n",
      "cp ./vasp_surface/Surf_3CNTs_wide.csv ./vasp_pv/Surf_2.csv\n",
      "cp ./vasp_surface/Surf_3CNTs_wider.csv ./vasp_pv/Surf_3.csv\n",
      "cp ./vasp_surface/Surf_3_6_9.csv ./vasp_pv/Surf_4.csv\n",
      "cp ./vasp_surface/Surf_NMGC-281588.csv ./vasp_pv/Surf_5.csv\n",
      "cp ./vasp_surface/Surf_NMGC-413955.csv ./vasp_pv/Surf_6.csv\n",
      "cp ./vasp_surface/Surf_NP_PtTi.csv ./vasp_pv/Surf_7.csv\n",
      "cp ./vasp_surface/Surf_POSCAR.C162.csv ./vasp_pv/Surf_8.csv\n",
      "cp ./vasp_surface/Surf_POSCAR.C162_3layers.csv ./vasp_pv/Surf_9.csv\n",
      "cp ./vasp_surface/Surf_POSCAR.C162_bump.csv ./vasp_pv/Surf_10.csv\n",
      "cp ./vasp_surface/Surf_POSCAR.C162_curve.csv ./vasp_pv/Surf_11.csv\n",
      "cp ./vasp_surface/Surf_POSCAR.C162_slope.csv ./vasp_pv/Surf_12.csv\n",
      "cp ./vasp_surface/Surf_POSCAR.C162_slope_.csv ./vasp_pv/Surf_13.csv\n",
      "cp ./vasp_surface/Surf_POSCAR.C162_wave.csv ./vasp_pv/Surf_14.csv\n",
      "cp ./vasp_surface/Surf_POSCAR_Anatase_001.csv ./vasp_pv/Surf_15.csv\n",
      "cp ./vasp_surface/Surf_POSCAR_Anatase_101.csv ./vasp_pv/Surf_16.csv\n",
      "cp ./vasp_surface/Surf_POSCAR_BTO.csv ./vasp_pv/Surf_17.csv\n",
      "cp ./vasp_surface/Surf_POSCAR_Ce40O80.csv ./vasp_pv/Surf_18.csv\n",
      "cp ./vasp_surface/Surf_POSCAR_Pt100.csv ./vasp_pv/Surf_19.csv\n",
      "cp ./vasp_surface/Surf_POSCAR_SiO2.csv ./vasp_pv/Surf_20.csv\n",
      "cp ./vasp_surface/Surf_POSCAR_SiO2_2D.csv ./vasp_pv/Surf_21.csv\n",
      "cp ./vasp_surface/Surf_POSCAR_SiO2_2D_wave.csv ./vasp_pv/Surf_22.csv\n",
      "cp ./vasp_surface/Surf_POSCAR_ZnO_001.csv ./vasp_pv/Surf_23.csv\n",
      "cp ./vasp_surface/Surf_POSCAR_ZnO_110.csv ./vasp_pv/Surf_24.csv\n",
      "cp ./vasp_surface/Surf_SiO2_surf2.csv ./vasp_pv/Surf_25.csv\n",
      "cp ./vasp_surface/Surf_TiO2_a.csv ./vasp_pv/Surf_26.csv\n",
      "cp ./vasp_surface/Surf_TiO2_b.csv ./vasp_pv/Surf_27.csv\n",
      "cp ./vasp_surface/Surf_TiO2_c.csv ./vasp_pv/Surf_28.csv\n",
      "cp ./vasp_surface/Surf_TiO2_d.csv ./vasp_pv/Surf_29.csv\n",
      "cp ./vasp_surface/Surf_input_POSCAR.Pt27.csv ./vasp_pv/Surf_30.csv\n",
      "cp ./vasp_surface/Surf_output_POSCAR.Pt27O2.csv ./vasp_pv/Surf_31.csv\n",
      "cp ./vasp_surface/Surf_Au_001_2x2_3L_15A.csv ./vasp_pv/Surf_32.csv\n",
      "cp ./vasp_surface/Surf_.ipynb_checkpointcsv ./vasp_pv/Surf_33.csv\n",
      "cp ./vasp_surface/Surf_Bi2Te2Se_001_3x3_1L_25A.csv ./vasp_pv/Surf_34.csv\n",
      "cp ./vasp_surface/Surf_BaTiO3_001_2x2_3L_15A.csv ./vasp_pv/Surf_35.csv\n",
      "cp ./vasp_surface/Surf_CeO2_001_2x2_3L_15A.csv ./vasp_pv/Surf_36.csv\n",
      "cp ./vasp_surface/Surf_CoSb3_001_2x2_2L_20A.csv ./vasp_pv/Surf_37.csv\n",
      "cp ./vasp_surface/Surf_GaAs_001_2x2_2L_15A.csv ./vasp_pv/Surf_38.csv\n",
      "cp ./vasp_surface/Surf_CrNi2_001_3x3_2L_15A.csv ./vasp_pv/Surf_39.csv\n",
      "cp ./vasp_surface/Surf_Ge_001_2x2_2L_15A.csv ./vasp_pv/Surf_40.csv\n",
      "cp ./vasp_surface/Surf_Mg_001_4x4_3L_15A.csv ./vasp_pv/Surf_41.csv\n",
      "cp ./vasp_surface/Surf_MnCu4Sn_001_2x2_2L_15A.csv ./vasp_pv/Surf_42.csv\n",
      "cp ./vasp_surface/Surf_Si3N4_001_2x2_5L_15A.csv ./vasp_pv/Surf_43.csv\n",
      "cp ./vasp_surface/Surf_Al_001_2x2_3L_15A.csv ./vasp_pv/Surf_44.csv\n",
      "cp ./vasp_surface/Surf_W_001_3x3_4L_15A.csv ./vasp_pv/Surf_45.csv\n"
     ]
    }
   ],
   "source": [
    "files_pv = [\"Surf_\" + file.rstrip(\"vasp\")+\"csv\" for file in files]\n",
    "files_surf = {}\n",
    "\n",
    "for i, file_pv in enumerate(files_pv):\n",
    "    command = \"cp %s/%s %s/Surf_%d.csv\" % (PATH_out, file_pv, PATH_pv, i)\n",
    "    os.system(command)\n",
    "    files_surf.update({file_pv:\"Surf_%d.csv\" %i})\n",
    "    print(command)"
   ]
  },
  {
   "cell_type": "code",
   "execution_count": 6,
   "metadata": {},
   "outputs": [
    {
     "data": {
      "text/plain": [
       "{'Surf_.ipynb_checkpointcsv': 'Surf_33.csv',\n",
       " 'Surf_12_18_24.csv': 'Surf_0.csv',\n",
       " 'Surf_3CNTs_extremelyclose.csv': 'Surf_1.csv',\n",
       " 'Surf_3CNTs_wide.csv': 'Surf_2.csv',\n",
       " 'Surf_3CNTs_wider.csv': 'Surf_3.csv',\n",
       " 'Surf_3_6_9.csv': 'Surf_4.csv',\n",
       " 'Surf_Al_001_2x2_3L_15A.csv': 'Surf_44.csv',\n",
       " 'Surf_Au_001_2x2_3L_15A.csv': 'Surf_32.csv',\n",
       " 'Surf_BaTiO3_001_2x2_3L_15A.csv': 'Surf_35.csv',\n",
       " 'Surf_Bi2Te2Se_001_3x3_1L_25A.csv': 'Surf_34.csv',\n",
       " 'Surf_CeO2_001_2x2_3L_15A.csv': 'Surf_36.csv',\n",
       " 'Surf_CoSb3_001_2x2_2L_20A.csv': 'Surf_37.csv',\n",
       " 'Surf_CrNi2_001_3x3_2L_15A.csv': 'Surf_39.csv',\n",
       " 'Surf_GaAs_001_2x2_2L_15A.csv': 'Surf_38.csv',\n",
       " 'Surf_Ge_001_2x2_2L_15A.csv': 'Surf_40.csv',\n",
       " 'Surf_Mg_001_4x4_3L_15A.csv': 'Surf_41.csv',\n",
       " 'Surf_MnCu4Sn_001_2x2_2L_15A.csv': 'Surf_42.csv',\n",
       " 'Surf_NMGC-281588.csv': 'Surf_5.csv',\n",
       " 'Surf_NMGC-413955.csv': 'Surf_6.csv',\n",
       " 'Surf_NP_PtTi.csv': 'Surf_7.csv',\n",
       " 'Surf_POSCAR.C162.csv': 'Surf_8.csv',\n",
       " 'Surf_POSCAR.C162_3layers.csv': 'Surf_9.csv',\n",
       " 'Surf_POSCAR.C162_bump.csv': 'Surf_10.csv',\n",
       " 'Surf_POSCAR.C162_curve.csv': 'Surf_11.csv',\n",
       " 'Surf_POSCAR.C162_slope.csv': 'Surf_12.csv',\n",
       " 'Surf_POSCAR.C162_slope_.csv': 'Surf_13.csv',\n",
       " 'Surf_POSCAR.C162_wave.csv': 'Surf_14.csv',\n",
       " 'Surf_POSCAR_Anatase_001.csv': 'Surf_15.csv',\n",
       " 'Surf_POSCAR_Anatase_101.csv': 'Surf_16.csv',\n",
       " 'Surf_POSCAR_BTO.csv': 'Surf_17.csv',\n",
       " 'Surf_POSCAR_Ce40O80.csv': 'Surf_18.csv',\n",
       " 'Surf_POSCAR_Pt100.csv': 'Surf_19.csv',\n",
       " 'Surf_POSCAR_SiO2.csv': 'Surf_20.csv',\n",
       " 'Surf_POSCAR_SiO2_2D.csv': 'Surf_21.csv',\n",
       " 'Surf_POSCAR_SiO2_2D_wave.csv': 'Surf_22.csv',\n",
       " 'Surf_POSCAR_ZnO_001.csv': 'Surf_23.csv',\n",
       " 'Surf_POSCAR_ZnO_110.csv': 'Surf_24.csv',\n",
       " 'Surf_Si3N4_001_2x2_5L_15A.csv': 'Surf_43.csv',\n",
       " 'Surf_SiO2_surf2.csv': 'Surf_25.csv',\n",
       " 'Surf_TiO2_a.csv': 'Surf_26.csv',\n",
       " 'Surf_TiO2_b.csv': 'Surf_27.csv',\n",
       " 'Surf_TiO2_c.csv': 'Surf_28.csv',\n",
       " 'Surf_TiO2_d.csv': 'Surf_29.csv',\n",
       " 'Surf_W_001_3x3_4L_15A.csv': 'Surf_45.csv',\n",
       " 'Surf_input_POSCAR.Pt27.csv': 'Surf_30.csv',\n",
       " 'Surf_output_POSCAR.Pt27O2.csv': 'Surf_31.csv'}"
      ]
     },
     "execution_count": 6,
     "metadata": {},
     "output_type": "execute_result"
    }
   ],
   "source": [
    "files_surf"
   ]
  },
  {
   "cell_type": "markdown",
   "metadata": {},
   "source": [
    "### Step 4. Compress files in PATH_pv"
   ]
  },
  {
   "cell_type": "code",
   "execution_count": 7,
   "metadata": {},
   "outputs": [
    {
     "name": "stdout",
     "output_type": "stream",
     "text": [
      "./vasp_pv/Surf_0.csv\n",
      "./vasp_pv/Surf_1.csv\n",
      "./vasp_pv/Surf_10.csv\n",
      "./vasp_pv/Surf_11.csv\n",
      "./vasp_pv/Surf_12.csv\n",
      "./vasp_pv/Surf_13.csv\n",
      "./vasp_pv/Surf_14.csv\n",
      "./vasp_pv/Surf_15.csv\n",
      "./vasp_pv/Surf_16.csv\n",
      "./vasp_pv/Surf_17.csv\n",
      "./vasp_pv/Surf_18.csv\n",
      "./vasp_pv/Surf_19.csv\n",
      "./vasp_pv/Surf_2.csv\n",
      "./vasp_pv/Surf_20.csv\n",
      "./vasp_pv/Surf_21.csv\n",
      "./vasp_pv/Surf_22.csv\n",
      "./vasp_pv/Surf_23.csv\n",
      "./vasp_pv/Surf_24.csv\n",
      "./vasp_pv/Surf_25.csv\n",
      "./vasp_pv/Surf_26.csv\n",
      "./vasp_pv/Surf_27.csv\n",
      "./vasp_pv/Surf_28.csv\n",
      "./vasp_pv/Surf_29.csv\n",
      "./vasp_pv/Surf_3.csv\n",
      "./vasp_pv/Surf_30.csv\n",
      "./vasp_pv/Surf_31.csv\n",
      "./vasp_pv/Surf_32.csv\n",
      "./vasp_pv/Surf_34.csv\n",
      "./vasp_pv/Surf_35.csv\n",
      "./vasp_pv/Surf_36.csv\n",
      "./vasp_pv/Surf_37.csv\n",
      "./vasp_pv/Surf_38.csv\n",
      "./vasp_pv/Surf_39.csv\n",
      "./vasp_pv/Surf_4.csv\n",
      "./vasp_pv/Surf_40.csv\n",
      "./vasp_pv/Surf_41.csv\n",
      "./vasp_pv/Surf_42.csv\n",
      "./vasp_pv/Surf_43.csv\n",
      "./vasp_pv/Surf_44.csv\n",
      "./vasp_pv/Surf_45.csv\n",
      "./vasp_pv/Surf_5.csv\n",
      "./vasp_pv/Surf_6.csv\n",
      "./vasp_pv/Surf_7.csv\n",
      "./vasp_pv/Surf_8.csv\n",
      "./vasp_pv/Surf_9.csv\n"
     ]
    }
   ],
   "source": [
    "!tar -czvf surf.tar.gz ./vasp_pv/*.csv"
   ]
  },
  {
   "cell_type": "code",
   "execution_count": 9,
   "metadata": {},
   "outputs": [
    {
     "data": {
      "text/plain": [
       "46"
      ]
     },
     "execution_count": 9,
     "metadata": {},
     "output_type": "execute_result"
    }
   ],
   "source": [
    "len(files_surf)"
   ]
  },
  {
   "cell_type": "code",
   "execution_count": null,
   "metadata": {},
   "outputs": [],
   "source": []
  }
 ],
 "metadata": {
  "kernelspec": {
   "display_name": "Python 3",
   "language": "python",
   "name": "python3"
  },
  "language_info": {
   "codemirror_mode": {
    "name": "ipython",
    "version": 3
   },
   "file_extension": ".py",
   "mimetype": "text/x-python",
   "name": "python",
   "nbconvert_exporter": "python",
   "pygments_lexer": "ipython3",
   "version": "3.7.4"
  }
 },
 "nbformat": 4,
 "nbformat_minor": 4
}
